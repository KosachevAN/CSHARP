{
  "nbformat": 4,
  "nbformat_minor": 0,
  "metadata": {
    "colab": {
      "provenance": [],
      "authorship_tag": "ABX9TyNtGjk4l3Vnr9FtPW/BWFfd",
      "include_colab_link": true
    },
    "kernelspec": {
      "name": "python3",
      "display_name": "Python 3"
    },
    "language_info": {
      "name": "python"
    }
  },
  "cells": [
    {
      "cell_type": "markdown",
      "metadata": {
        "id": "view-in-github",
        "colab_type": "text"
      },
      "source": [
        "<a href=\"https://colab.research.google.com/github/KosachevAN/CSHARP/blob/main/Homework.ipynb\" target=\"_parent\"><img src=\"https://colab.research.google.com/assets/colab-badge.svg\" alt=\"Open In Colab\"/></a>"
      ]
    },
    {
      "cell_type": "code",
      "execution_count": 4,
      "metadata": {
        "id": "nDkUZekirUbz"
      },
      "outputs": [],
      "source": [
        "#1.\n",
        "import numpy as np"
      ]
    },
    {
      "cell_type": "code",
      "source": [
        "#a. Создайте массив из 10 нулей\n",
        "ar0 = np.zeros(10, dtype=np.int8)\n",
        "ar0"
      ],
      "metadata": {
        "colab": {
          "base_uri": "https://localhost:8080/"
        },
        "id": "OBA4ZUr00t8K",
        "outputId": "f2a2e4c4-6e07-4d27-a4ea-12b5c3ab2ab2"
      },
      "execution_count": 14,
      "outputs": [
        {
          "output_type": "execute_result",
          "data": {
            "text/plain": [
              "array([0, 0, 0, 0, 0, 0, 0, 0, 0, 0], dtype=int8)"
            ]
          },
          "metadata": {},
          "execution_count": 14
        }
      ]
    },
    {
      "cell_type": "code",
      "source": [
        "#b. Создать массив из 10 единиц\n",
        "ar1 = np.ones(10, dtype=np.int8)\n",
        "ar1"
      ],
      "metadata": {
        "colab": {
          "base_uri": "https://localhost:8080/"
        },
        "id": "0EEVOxS801e2",
        "outputId": "d3bac2a7-eaf4-4d3c-e755-e7772ad98a66"
      },
      "execution_count": 15,
      "outputs": [
        {
          "output_type": "execute_result",
          "data": {
            "text/plain": [
              "array([1, 1, 1, 1, 1, 1, 1, 1, 1, 1], dtype=int8)"
            ]
          },
          "metadata": {},
          "execution_count": 15
        }
      ]
    },
    {
      "cell_type": "code",
      "source": [
        "#c. Создать массив из 10 пятерок\n",
        "ar5 = np.linspace(5, 5, 10, dtype=np.int8)\n",
        "ar5"
      ],
      "metadata": {
        "colab": {
          "base_uri": "https://localhost:8080/"
        },
        "id": "3ijEIW1aNyNV",
        "outputId": "22efda4d-0070-4e48-bbe0-8f3992ff83cb"
      },
      "execution_count": 16,
      "outputs": [
        {
          "output_type": "execute_result",
          "data": {
            "text/plain": [
              "array([5, 5, 5, 5, 5, 5, 5, 5, 5, 5], dtype=int8)"
            ]
          },
          "metadata": {},
          "execution_count": 16
        }
      ]
    },
    {
      "cell_type": "code",
      "source": [
        "#d. Создать массив из целых чисел от 10 до 50\n",
        "ar = np.arange(10, 51)\n",
        "ar"
      ],
      "metadata": {
        "colab": {
          "base_uri": "https://localhost:8080/"
        },
        "id": "C0oo-9nrSrfi",
        "outputId": "9b3ce876-ec32-4018-e4c5-4bbac2d92077"
      },
      "execution_count": 17,
      "outputs": [
        {
          "output_type": "execute_result",
          "data": {
            "text/plain": [
              "array([10, 11, 12, 13, 14, 15, 16, 17, 18, 19, 20, 21, 22, 23, 24, 25, 26,\n",
              "       27, 28, 29, 30, 31, 32, 33, 34, 35, 36, 37, 38, 39, 40, 41, 42, 43,\n",
              "       44, 45, 46, 47, 48, 49, 50])"
            ]
          },
          "metadata": {},
          "execution_count": 17
        }
      ]
    },
    {
      "cell_type": "code",
      "source": [
        "#e. Создать массив из четных чисел от 10 до 50\n",
        "ar = np.arange(10, 51, 2)\n",
        "ar"
      ],
      "metadata": {
        "colab": {
          "base_uri": "https://localhost:8080/"
        },
        "id": "ujgFY-fHTW6M",
        "outputId": "1a920825-d201-428e-a50e-cb7c416136db"
      },
      "execution_count": 18,
      "outputs": [
        {
          "output_type": "execute_result",
          "data": {
            "text/plain": [
              "array([10, 12, 14, 16, 18, 20, 22, 24, 26, 28, 30, 32, 34, 36, 38, 40, 42,\n",
              "       44, 46, 48, 50])"
            ]
          },
          "metadata": {},
          "execution_count": 18
        }
      ]
    },
    {
      "cell_type": "code",
      "source": [
        "#f. Создать матрицу 3х3 с числами от 0 до 8\n",
        "ar = np.arange(9)\n",
        "ar = ar.reshape(3, 3)\n",
        "ar"
      ],
      "metadata": {
        "colab": {
          "base_uri": "https://localhost:8080/"
        },
        "id": "ml0-LqyjTuU1",
        "outputId": "c16c0651-9f87-4633-d18d-dd768d6e90cb"
      },
      "execution_count": 19,
      "outputs": [
        {
          "output_type": "execute_result",
          "data": {
            "text/plain": [
              "array([[0, 1, 2],\n",
              "       [3, 4, 5],\n",
              "       [6, 7, 8]])"
            ]
          },
          "metadata": {},
          "execution_count": 19
        }
      ]
    },
    {
      "cell_type": "code",
      "source": [
        "#g. Создать единичную матрицу 3x3\n",
        "a = np.eye(3)\n",
        "a"
      ],
      "metadata": {
        "colab": {
          "base_uri": "https://localhost:8080/"
        },
        "id": "Pg-gMX-mVhuv",
        "outputId": "8657768b-9705-4129-cba9-206e66c65567"
      },
      "execution_count": 20,
      "outputs": [
        {
          "output_type": "execute_result",
          "data": {
            "text/plain": [
              "array([[1., 0., 0.],\n",
              "       [0., 1., 0.],\n",
              "       [0., 0., 1.]])"
            ]
          },
          "metadata": {},
          "execution_count": 20
        }
      ]
    },
    {
      "cell_type": "code",
      "source": [
        "#h. Используйте NumPy для генерации массива из 25 случайных чисел, взятых из стандартного нормального распределения\n",
        "a = np.random.random(25)\n",
        "a"
      ],
      "metadata": {
        "colab": {
          "base_uri": "https://localhost:8080/"
        },
        "id": "8YWH1ULHWQ_B",
        "outputId": "4e49deaf-07db-4a62-ddc9-c398590fea78"
      },
      "execution_count": 21,
      "outputs": [
        {
          "output_type": "execute_result",
          "data": {
            "text/plain": [
              "array([0.63985302, 0.1492324 , 0.4997509 , 0.16687788, 0.44565166,\n",
              "       0.66734593, 0.5729577 , 0.48329585, 0.11064809, 0.72438268,\n",
              "       0.27632873, 0.57174506, 0.16439109, 0.45799928, 0.16993086,\n",
              "       0.14611276, 0.09643873, 0.88147409, 0.53834733, 0.38674381,\n",
              "       0.70293994, 0.92442841, 0.53510306, 0.10637818, 0.39313256])"
            ]
          },
          "metadata": {},
          "execution_count": 21
        }
      ]
    },
    {
      "cell_type": "code",
      "source": [
        "#i. Создайте следующую матрицу используя функции библиотеки NumPy\n",
        "a = np.linspace(0, 1, 100, dtype=np.float16)\n",
        "a = a.reshape(10,10)\n",
        "a"
      ],
      "metadata": {
        "colab": {
          "base_uri": "https://localhost:8080/"
        },
        "id": "AkfisxFoXu28",
        "outputId": "40fb51bb-3d68-46df-8196-3172effb10cf"
      },
      "execution_count": 22,
      "outputs": [
        {
          "output_type": "execute_result",
          "data": {
            "text/plain": [
              "array([[0.    , 0.0101, 0.0202, 0.0303, 0.0404, 0.0505, 0.0606, 0.0707,\n",
              "        0.0808, 0.0909],\n",
              "       [0.101 , 0.1111, 0.1212, 0.1313, 0.1414, 0.1515, 0.1616, 0.1718,\n",
              "        0.1818, 0.1919],\n",
              "       [0.202 , 0.2122, 0.2222, 0.2323, 0.2424, 0.2524, 0.2627, 0.2727,\n",
              "        0.2827, 0.293 ],\n",
              "       [0.303 , 0.3132, 0.3232, 0.3333, 0.3435, 0.3535, 0.3635, 0.3738,\n",
              "        0.3838, 0.394 ],\n",
              "       [0.404 , 0.414 , 0.4243, 0.4343, 0.4443, 0.4546, 0.4646, 0.4749,\n",
              "        0.4849, 0.4949],\n",
              "       [0.505 , 0.515 , 0.5254, 0.535 , 0.5454, 0.5557, 0.5654, 0.5757,\n",
              "        0.586 , 0.596 ],\n",
              "       [0.606 , 0.616 , 0.6265, 0.636 , 0.6465, 0.6567, 0.6665, 0.677 ,\n",
              "        0.687 , 0.697 ],\n",
              "       [0.707 , 0.7173, 0.727 , 0.7373, 0.7476, 0.758 , 0.7676, 0.778 ,\n",
              "        0.788 , 0.798 ],\n",
              "       [0.808 , 0.8184, 0.828 , 0.8384, 0.8486, 0.8584, 0.8687, 0.879 ,\n",
              "        0.8887, 0.899 ],\n",
              "       [0.909 , 0.9194, 0.929 , 0.9395, 0.9497, 0.9595, 0.9697, 0.98  ,\n",
              "        0.9897, 1.    ]], dtype=float16)"
            ]
          },
          "metadata": {},
          "execution_count": 22
        }
      ]
    },
    {
      "cell_type": "code",
      "source": [
        "mat = np.arange(1,26).reshape(5,5)\n",
        "mat"
      ],
      "metadata": {
        "colab": {
          "base_uri": "https://localhost:8080/"
        },
        "id": "JSdGRX5FvO-W",
        "outputId": "ca4de243-868c-4bd6-ead1-86a4a1dbdece"
      },
      "execution_count": 23,
      "outputs": [
        {
          "output_type": "execute_result",
          "data": {
            "text/plain": [
              "array([[ 1,  2,  3,  4,  5],\n",
              "       [ 6,  7,  8,  9, 10],\n",
              "       [11, 12, 13, 14, 15],\n",
              "       [16, 17, 18, 19, 20],\n",
              "       [21, 22, 23, 24, 25]])"
            ]
          },
          "metadata": {},
          "execution_count": 23
        }
      ]
    },
    {
      "cell_type": "code",
      "source": [
        "#j\n",
        "mat[2:, 1:]"
      ],
      "metadata": {
        "colab": {
          "base_uri": "https://localhost:8080/"
        },
        "id": "x6yjSZsapuGi",
        "outputId": "52423c88-df59-42a7-97d2-c514e280f579"
      },
      "execution_count": 24,
      "outputs": [
        {
          "output_type": "execute_result",
          "data": {
            "text/plain": [
              "array([[12, 13, 14, 15],\n",
              "       [17, 18, 19, 20],\n",
              "       [22, 23, 24, 25]])"
            ]
          },
          "metadata": {},
          "execution_count": 24
        }
      ]
    },
    {
      "cell_type": "code",
      "source": [
        "#k. Написать код обращения к элементу который вернет значение 20 из стартовой матрицы задачи l.\n",
        "mat[3, 4]"
      ],
      "metadata": {
        "colab": {
          "base_uri": "https://localhost:8080/"
        },
        "id": "c7ZqaMDOrUhX",
        "outputId": "69bdb648-a9dc-4a65-8c99-1bb7077d7a14"
      },
      "execution_count": 25,
      "outputs": [
        {
          "output_type": "execute_result",
          "data": {
            "text/plain": [
              "20"
            ]
          },
          "metadata": {},
          "execution_count": 25
        }
      ]
    },
    {
      "cell_type": "code",
      "source": [
        "#l\n",
        "mat[0:3, 1:2]"
      ],
      "metadata": {
        "colab": {
          "base_uri": "https://localhost:8080/"
        },
        "id": "hZkwkLe3sAlb",
        "outputId": "ffef347f-ba07-4874-ce8f-ccfa348c345a"
      },
      "execution_count": 26,
      "outputs": [
        {
          "output_type": "execute_result",
          "data": {
            "text/plain": [
              "array([[ 2],\n",
              "       [ 7],\n",
              "       [12]])"
            ]
          },
          "metadata": {},
          "execution_count": 26
        }
      ]
    },
    {
      "cell_type": "code",
      "source": [
        "#m\n",
        "mat[4,0:]"
      ],
      "metadata": {
        "colab": {
          "base_uri": "https://localhost:8080/"
        },
        "id": "i2CD4UkWwBLZ",
        "outputId": "10591e33-b8aa-4bc8-bb50-ea685222b32c"
      },
      "execution_count": 27,
      "outputs": [
        {
          "output_type": "execute_result",
          "data": {
            "text/plain": [
              "array([21, 22, 23, 24, 25])"
            ]
          },
          "metadata": {},
          "execution_count": 27
        }
      ]
    },
    {
      "cell_type": "code",
      "source": [
        "#n\n",
        "mat[3:,0:]"
      ],
      "metadata": {
        "colab": {
          "base_uri": "https://localhost:8080/"
        },
        "id": "4csEShMJxfeW",
        "outputId": "a379db0a-6d19-41e1-bad0-dd13adec6c6d"
      },
      "execution_count": 28,
      "outputs": [
        {
          "output_type": "execute_result",
          "data": {
            "text/plain": [
              "array([[16, 17, 18, 19, 20],\n",
              "       [21, 22, 23, 24, 25]])"
            ]
          },
          "metadata": {},
          "execution_count": 28
        }
      ]
    },
    {
      "cell_type": "code",
      "source": [
        "#o\n",
        "mat.sum()"
      ],
      "metadata": {
        "colab": {
          "base_uri": "https://localhost:8080/"
        },
        "id": "o_q1vTTZyKy7",
        "outputId": "b15c723c-c05e-4b66-8635-00b3ac2a6024"
      },
      "execution_count": 29,
      "outputs": [
        {
          "output_type": "execute_result",
          "data": {
            "text/plain": [
              "325"
            ]
          },
          "metadata": {},
          "execution_count": 29
        }
      ]
    },
    {
      "cell_type": "code",
      "source": [
        "#p\n",
        "np.std(mat, axis=0)"
      ],
      "metadata": {
        "colab": {
          "base_uri": "https://localhost:8080/"
        },
        "id": "dR-gm3IIySoz",
        "outputId": "db270d75-089b-4850-d3e9-d071d874f80b"
      },
      "execution_count": 30,
      "outputs": [
        {
          "output_type": "execute_result",
          "data": {
            "text/plain": [
              "array([7.07106781, 7.07106781, 7.07106781, 7.07106781, 7.07106781])"
            ]
          },
          "metadata": {},
          "execution_count": 30
        }
      ]
    },
    {
      "cell_type": "code",
      "source": [
        "np.std(mat, axis=1)"
      ],
      "metadata": {
        "colab": {
          "base_uri": "https://localhost:8080/"
        },
        "id": "wLjWcTe_j1Zr",
        "outputId": "05218a77-cee1-44be-fae0-f6e373b7fa08"
      },
      "execution_count": 32,
      "outputs": [
        {
          "output_type": "execute_result",
          "data": {
            "text/plain": [
              "array([1.41421356, 1.41421356, 1.41421356, 1.41421356, 1.41421356])"
            ]
          },
          "metadata": {},
          "execution_count": 32
        }
      ]
    },
    {
      "cell_type": "code",
      "source": [
        "np.std(mat)"
      ],
      "metadata": {
        "colab": {
          "base_uri": "https://localhost:8080/"
        },
        "id": "4Lomyq7Lj56h",
        "outputId": "8f741173-b5ee-43ac-d6b2-b3cb688c5743"
      },
      "execution_count": 33,
      "outputs": [
        {
          "output_type": "execute_result",
          "data": {
            "text/plain": [
              "7.211102550927978"
            ]
          },
          "metadata": {},
          "execution_count": 33
        }
      ]
    },
    {
      "cell_type": "code",
      "source": [
        "#q\n",
        "mat.sum(axis=1)"
      ],
      "metadata": {
        "colab": {
          "base_uri": "https://localhost:8080/"
        },
        "outputId": "e484b956-78db-41e6-d33b-b88d1c7a8dc5",
        "id": "9Fwr78dMjKoA"
      },
      "execution_count": 34,
      "outputs": [
        {
          "output_type": "execute_result",
          "data": {
            "text/plain": [
              "array([ 15,  40,  65,  90, 115])"
            ]
          },
          "metadata": {},
          "execution_count": 34
        }
      ]
    }
  ]
}