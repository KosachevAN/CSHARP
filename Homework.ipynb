{
  "nbformat": 4,
  "nbformat_minor": 0,
  "metadata": {
    "colab": {
      "provenance": [],
      "authorship_tag": "ABX9TyNLi71tayRDxL8ZH1wkrtMq",
      "include_colab_link": true
    },
    "kernelspec": {
      "name": "python3",
      "display_name": "Python 3"
    },
    "language_info": {
      "name": "python"
    }
  },
  "cells": [
    {
      "cell_type": "markdown",
      "metadata": {
        "id": "view-in-github",
        "colab_type": "text"
      },
      "source": [
        "<a href=\"https://colab.research.google.com/github/KosachevAN/CSHARP/blob/main/Homework.ipynb\" target=\"_parent\"><img src=\"https://colab.research.google.com/assets/colab-badge.svg\" alt=\"Open In Colab\"/></a>"
      ]
    },
    {
      "cell_type": "code",
      "execution_count": null,
      "metadata": {
        "id": "nDkUZekirUbz"
      },
      "outputs": [],
      "source": [
        "#1.\n",
        "import numpy as np"
      ]
    },
    {
      "cell_type": "code",
      "source": [
        "#a. Создайте массив из 10 нулей\n",
        "ar0 = np.zeros(10, dtype=np.int8)\n",
        "ar0"
      ],
      "metadata": {
        "colab": {
          "base_uri": "https://localhost:8080/"
        },
        "id": "OBA4ZUr00t8K",
        "outputId": "a45f891d-fc3d-429f-bfaa-ca966211c848"
      },
      "execution_count": null,
      "outputs": [
        {
          "output_type": "execute_result",
          "data": {
            "text/plain": [
              "array([0, 0, 0, 0, 0, 0, 0, 0, 0, 0], dtype=int8)"
            ]
          },
          "metadata": {},
          "execution_count": 10
        }
      ]
    },
    {
      "cell_type": "code",
      "source": [
        "#b. Создать массив из 10 единиц\n",
        "ar1 = np.ones(10, dtype=np.int8)\n",
        "ar1"
      ],
      "metadata": {
        "colab": {
          "base_uri": "https://localhost:8080/"
        },
        "id": "0EEVOxS801e2",
        "outputId": "23e3fd31-3c21-43a7-d09f-3ddaafaade73"
      },
      "execution_count": null,
      "outputs": [
        {
          "output_type": "execute_result",
          "data": {
            "text/plain": [
              "array([1, 1, 1, 1, 1, 1, 1, 1, 1, 1], dtype=int8)"
            ]
          },
          "metadata": {},
          "execution_count": 11
        }
      ]
    },
    {
      "cell_type": "code",
      "source": [
        "#c. Создать массив из 10 пятерок\n",
        "ar5 = np.linspace(5, 5, 10, dtype=np.int8)\n",
        "ar5"
      ],
      "metadata": {
        "colab": {
          "base_uri": "https://localhost:8080/"
        },
        "id": "3ijEIW1aNyNV",
        "outputId": "0e9edb48-bf77-4cb3-dcce-acea12dbe0f2"
      },
      "execution_count": null,
      "outputs": [
        {
          "output_type": "execute_result",
          "data": {
            "text/plain": [
              "array([5, 5, 5, 5, 5, 5, 5, 5, 5, 5], dtype=int8)"
            ]
          },
          "metadata": {},
          "execution_count": 17
        }
      ]
    },
    {
      "cell_type": "code",
      "source": [
        "#d. Создать массив из целых чисел от 10 до 50\n",
        "ar = np.arange(10, 51)\n",
        "ar"
      ],
      "metadata": {
        "colab": {
          "base_uri": "https://localhost:8080/"
        },
        "id": "C0oo-9nrSrfi",
        "outputId": "4d77bed4-ea4c-46e2-ece7-c7403fda3940"
      },
      "execution_count": null,
      "outputs": [
        {
          "output_type": "execute_result",
          "data": {
            "text/plain": [
              "array([10, 11, 12, 13, 14, 15, 16, 17, 18, 19, 20, 21, 22, 23, 24, 25, 26,\n",
              "       27, 28, 29, 30, 31, 32, 33, 34, 35, 36, 37, 38, 39, 40, 41, 42, 43,\n",
              "       44, 45, 46, 47, 48, 49, 50])"
            ]
          },
          "metadata": {},
          "execution_count": 19
        }
      ]
    },
    {
      "cell_type": "code",
      "source": [
        "#e. Создать массив из четных чисел от 10 до 50\n",
        "ar = np.arange(10, 51, 2)\n",
        "ar"
      ],
      "metadata": {
        "colab": {
          "base_uri": "https://localhost:8080/"
        },
        "id": "ujgFY-fHTW6M",
        "outputId": "14e0e5ca-bbb6-43bf-b0be-ae9f1d5a49a4"
      },
      "execution_count": null,
      "outputs": [
        {
          "output_type": "execute_result",
          "data": {
            "text/plain": [
              "array([10, 12, 14, 16, 18, 20, 22, 24, 26, 28, 30, 32, 34, 36, 38, 40, 42,\n",
              "       44, 46, 48, 50])"
            ]
          },
          "metadata": {},
          "execution_count": 20
        }
      ]
    },
    {
      "cell_type": "code",
      "source": [
        "#f. Создать матрицу 3х3 с числами от 0 до 8\n",
        "ar = np.arange(9)\n",
        "ar = ar.reshape(3, 3)\n",
        "ar"
      ],
      "metadata": {
        "colab": {
          "base_uri": "https://localhost:8080/"
        },
        "id": "ml0-LqyjTuU1",
        "outputId": "700e8415-7f76-4c33-bca8-6da167a8b776"
      },
      "execution_count": null,
      "outputs": [
        {
          "output_type": "execute_result",
          "data": {
            "text/plain": [
              "array([[0, 1, 2],\n",
              "       [3, 4, 5],\n",
              "       [6, 7, 8]])"
            ]
          },
          "metadata": {},
          "execution_count": 27
        }
      ]
    },
    {
      "cell_type": "code",
      "source": [
        "#g. Создать единичную матрицу 3x3\n",
        "a = np.eye(3)\n",
        "a"
      ],
      "metadata": {
        "colab": {
          "base_uri": "https://localhost:8080/"
        },
        "id": "Pg-gMX-mVhuv",
        "outputId": "cf24f5f8-2baf-4c8a-e0b2-7f57de994fff"
      },
      "execution_count": null,
      "outputs": [
        {
          "output_type": "execute_result",
          "data": {
            "text/plain": [
              "array([[1., 0., 0.],\n",
              "       [0., 1., 0.],\n",
              "       [0., 0., 1.]])"
            ]
          },
          "metadata": {},
          "execution_count": 28
        }
      ]
    },
    {
      "cell_type": "code",
      "source": [
        "#h. Используйте NumPy для генерации массива из 25 случайных чисел, взятых из стандартного нормального распределения\n",
        "a = np.random.random(25)\n",
        "a"
      ],
      "metadata": {
        "colab": {
          "base_uri": "https://localhost:8080/"
        },
        "id": "8YWH1ULHWQ_B",
        "outputId": "bafc5ac5-0d03-4b69-c98a-7fd0a5c59769"
      },
      "execution_count": null,
      "outputs": [
        {
          "output_type": "execute_result",
          "data": {
            "text/plain": [
              "array([0.56776245, 0.88503228, 0.92940857, 0.41174831, 0.88798568,\n",
              "       0.64063908, 0.88358234, 0.7539568 , 0.59914084, 0.21395568,\n",
              "       0.04280042, 0.93751622, 0.54617762, 0.41533141, 0.01346664,\n",
              "       0.13456639, 0.92799763, 0.05134258, 0.24340956, 0.92668375,\n",
              "       0.68648011, 0.72138018, 0.92950988, 0.95983261, 0.4605907 ])"
            ]
          },
          "metadata": {},
          "execution_count": 30
        }
      ]
    },
    {
      "cell_type": "code",
      "source": [
        "#i. Создайте следующую матрицу используя функции библиотеки NumPy\n",
        "a = np.linspace(0, 1, 100, dtype=np.float16)\n",
        "a = a.reshape(10,10)\n",
        "a"
      ],
      "metadata": {
        "colab": {
          "base_uri": "https://localhost:8080/"
        },
        "id": "AkfisxFoXu28",
        "outputId": "222ae9d7-0686-4821-b052-347078e50ae2"
      },
      "execution_count": null,
      "outputs": [
        {
          "output_type": "execute_result",
          "data": {
            "text/plain": [
              "array([[0.    , 0.0101, 0.0202, 0.0303, 0.0404, 0.0505, 0.0606, 0.0707,\n",
              "        0.0808, 0.0909],\n",
              "       [0.101 , 0.1111, 0.1212, 0.1313, 0.1414, 0.1515, 0.1616, 0.1718,\n",
              "        0.1818, 0.1919],\n",
              "       [0.202 , 0.2122, 0.2222, 0.2323, 0.2424, 0.2524, 0.2627, 0.2727,\n",
              "        0.2827, 0.293 ],\n",
              "       [0.303 , 0.3132, 0.3232, 0.3333, 0.3435, 0.3535, 0.3635, 0.3738,\n",
              "        0.3838, 0.394 ],\n",
              "       [0.404 , 0.414 , 0.4243, 0.4343, 0.4443, 0.4546, 0.4646, 0.4749,\n",
              "        0.4849, 0.4949],\n",
              "       [0.505 , 0.515 , 0.5254, 0.535 , 0.5454, 0.5557, 0.5654, 0.5757,\n",
              "        0.586 , 0.596 ],\n",
              "       [0.606 , 0.616 , 0.6265, 0.636 , 0.6465, 0.6567, 0.6665, 0.677 ,\n",
              "        0.687 , 0.697 ],\n",
              "       [0.707 , 0.7173, 0.727 , 0.7373, 0.7476, 0.758 , 0.7676, 0.778 ,\n",
              "        0.788 , 0.798 ],\n",
              "       [0.808 , 0.8184, 0.828 , 0.8384, 0.8486, 0.8584, 0.8687, 0.879 ,\n",
              "        0.8887, 0.899 ],\n",
              "       [0.909 , 0.9194, 0.929 , 0.9395, 0.9497, 0.9595, 0.9697, 0.98  ,\n",
              "        0.9897, 1.    ]], dtype=float16)"
            ]
          },
          "metadata": {},
          "execution_count": 44
        }
      ]
    },
    {
      "cell_type": "code",
      "source": [
        "mat = np.arange(1,26).reshape(5,5)\n",
        "mat"
      ],
      "metadata": {
        "colab": {
          "base_uri": "https://localhost:8080/"
        },
        "id": "JSdGRX5FvO-W",
        "outputId": "aead50a2-d54e-49ea-93b6-fe457d32c2a3"
      },
      "execution_count": 81,
      "outputs": [
        {
          "output_type": "execute_result",
          "data": {
            "text/plain": [
              "array([[ 1,  2,  3,  4,  5],\n",
              "       [ 6,  7,  8,  9, 10],\n",
              "       [11, 12, 13, 14, 15],\n",
              "       [16, 17, 18, 19, 20],\n",
              "       [21, 22, 23, 24, 25]])"
            ]
          },
          "metadata": {},
          "execution_count": 81
        }
      ]
    },
    {
      "cell_type": "code",
      "source": [
        "#j\n",
        "mat[2:, 1:]"
      ],
      "metadata": {
        "colab": {
          "base_uri": "https://localhost:8080/"
        },
        "id": "x6yjSZsapuGi",
        "outputId": "b78f86f5-ea16-48db-9b96-27d4e8973518"
      },
      "execution_count": null,
      "outputs": [
        {
          "output_type": "execute_result",
          "data": {
            "text/plain": [
              "array([[12, 13, 14, 15],\n",
              "       [17, 18, 19, 20],\n",
              "       [22, 23, 24, 25]])"
            ]
          },
          "metadata": {},
          "execution_count": 50
        }
      ]
    },
    {
      "cell_type": "code",
      "source": [
        "#k. Написать код обращения к элементу который вернет значение 20 из стартовой матрицы задачи l.\n",
        "mat[3, 4]"
      ],
      "metadata": {
        "colab": {
          "base_uri": "https://localhost:8080/"
        },
        "id": "c7ZqaMDOrUhX",
        "outputId": "2535f8d1-025e-4cae-ff91-bf0c43319633"
      },
      "execution_count": null,
      "outputs": [
        {
          "output_type": "execute_result",
          "data": {
            "text/plain": [
              "20"
            ]
          },
          "metadata": {},
          "execution_count": 53
        }
      ]
    },
    {
      "cell_type": "code",
      "source": [
        "#l\n",
        "mat[0:3, 1:2]"
      ],
      "metadata": {
        "colab": {
          "base_uri": "https://localhost:8080/"
        },
        "id": "hZkwkLe3sAlb",
        "outputId": "9070d695-064f-4b03-b1bb-96582ffd8f7e"
      },
      "execution_count": 87,
      "outputs": [
        {
          "output_type": "execute_result",
          "data": {
            "text/plain": [
              "array([[ 2],\n",
              "       [ 7],\n",
              "       [12]])"
            ]
          },
          "metadata": {},
          "execution_count": 87
        }
      ]
    },
    {
      "cell_type": "code",
      "source": [
        "#m\n",
        "mat[4,0:]"
      ],
      "metadata": {
        "colab": {
          "base_uri": "https://localhost:8080/"
        },
        "id": "i2CD4UkWwBLZ",
        "outputId": "1c492af4-d175-4f46-b1b3-6c2e1d97e7d3"
      },
      "execution_count": 88,
      "outputs": [
        {
          "output_type": "execute_result",
          "data": {
            "text/plain": [
              "array([21, 22, 23, 24, 25])"
            ]
          },
          "metadata": {},
          "execution_count": 88
        }
      ]
    },
    {
      "cell_type": "code",
      "source": [
        "#n\n",
        "mat[3:,0:]"
      ],
      "metadata": {
        "colab": {
          "base_uri": "https://localhost:8080/"
        },
        "id": "4csEShMJxfeW",
        "outputId": "1af350d2-e1e9-4a66-b860-8bcd7f8309ab"
      },
      "execution_count": 89,
      "outputs": [
        {
          "output_type": "execute_result",
          "data": {
            "text/plain": [
              "array([[16, 17, 18, 19, 20],\n",
              "       [21, 22, 23, 24, 25]])"
            ]
          },
          "metadata": {},
          "execution_count": 89
        }
      ]
    }
  ]
}